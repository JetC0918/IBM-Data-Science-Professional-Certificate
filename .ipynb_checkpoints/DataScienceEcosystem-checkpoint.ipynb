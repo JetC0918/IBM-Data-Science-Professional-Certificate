{
 "cells": [
  {
   "cell_type": "markdown",
   "id": "89dee871-61b1-471d-b841-3d2c9a5ce969",
   "metadata": {},
   "source": [
    "# Data Science Tools and Ecosystem"
   ]
  },
  {
   "cell_type": "markdown",
   "id": "98241b53-c449-409d-ae22-52ba0b376fa5",
   "metadata": {},
   "source": [
    "In this notebook, Data Science Tools and Ecosystem are summarized."
   ]
  },
  {
   "cell_type": "markdown",
   "id": "821b0637-1c41-4a2e-8410-5cd25e987c11",
   "metadata": {},
   "source": [
    "**Objectives**\n",
    "- List popular languages for Data Science\n",
    "- List commonly used libraries used by Data Scientists\n",
    "- List few examples of evaluating arithmetic expressions in Python"
   ]
  },
  {
   "cell_type": "markdown",
   "id": "b4b369d9-ac40-4e8e-bdd1-e7115f919830",
   "metadata": {},
   "source": [
    "Some of the popular languages that Data Scientists use are:\r",
    "1. Python\n",
    "2. SQL\n",
    "3. R\n"
   ]
  },
  {
   "cell_type": "markdown",
   "id": "f4a1c22d-6bda-4fba-9e79-e8ef24a8de3f",
   "metadata": {},
   "source": [
    "Some of the commonly used libraries used by Data Scientists include:\r",
    "1. Numpy\n",
    "2. Matplotlib\n",
    "3. Pandasib.\n"
   ]
  },
  {
   "cell_type": "markdown",
   "id": "ca14de70-e8dc-462e-a79a-455180ae88c5",
   "metadata": {},
   "source": [
    "| Data Science Tools |\r\n",
    "|------\n",
    "|  Jupyter Notebook  | \n",
    "|   R Studio  | \n",
    "|   Apache Spark  | "
   ]
  },
  {
   "cell_type": "markdown",
   "id": "96eddc69-b745-4384-95b6-d80207edbab7",
   "metadata": {},
   "source": [
    "### Below are a few examples of evaluating arithmetic expressions in Python.\r\n"
   ]
  },
  {
   "cell_type": "code",
   "execution_count": 3,
   "id": "9c37aead-62f9-49fe-970a-d9ac1b4001a1",
   "metadata": {},
   "outputs": [
    {
     "data": {
      "text/plain": [
       "17"
      ]
     },
     "execution_count": 3,
     "metadata": {},
     "output_type": "execute_result"
    }
   ],
   "source": [
    "#This a simple arithmetic expression to mutiply then add integers.\n",
    "(3*4)+5"
   ]
  },
  {
   "cell_type": "code",
   "execution_count": 7,
   "id": "50d31f58-d139-466a-83bc-37a3ae9e17f2",
   "metadata": {},
   "outputs": [
    {
     "name": "stdout",
     "output_type": "stream",
     "text": [
      "This will convert 200 minutes to 3.3333333333333335 hours by dividing by 60\n"
     ]
    }
   ],
   "source": [
    "#This will convert 200 minutes to hours by diving by 60\n",
    "print(\"This will convert 200 minutes to\", 200/60, \"hours by dividing by 60\")"
   ]
  },
  {
   "cell_type": "markdown",
   "id": "fee623b8-d805-4961-b87d-6ff43787841b",
   "metadata": {},
   "source": [
    "## Author \n",
    "Jet Nyee"
   ]
  },
  {
   "cell_type": "code",
   "execution_count": null,
   "id": "d178bb4f-ca73-400b-9ee9-68e1bbe3d1af",
   "metadata": {},
   "outputs": [],
   "source": []
  }
 ],
 "metadata": {
  "kernelspec": {
   "display_name": "Python 3 (ipykernel)",
   "language": "python",
   "name": "python3"
  },
  "language_info": {
   "codemirror_mode": {
    "name": "ipython",
    "version": 3
   },
   "file_extension": ".py",
   "mimetype": "text/x-python",
   "name": "python",
   "nbconvert_exporter": "python",
   "pygments_lexer": "ipython3",
   "version": "3.11.7"
  }
 },
 "nbformat": 4,
 "nbformat_minor": 5
}
